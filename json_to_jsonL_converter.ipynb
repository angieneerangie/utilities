{
  "nbformat": 4,
  "nbformat_minor": 0,
  "metadata": {
    "colab": {
      "provenance": []
    },
    "kernelspec": {
      "name": "python3",
      "display_name": "Python 3"
    },
    "language_info": {
      "name": "python"
    }
  },
  "cells": [
    {
      "cell_type": "code",
      "metadata": {
        "id": "1df5f77d"
      },
      "source": [
        "import json\n",
        "\n",
        "def json_to_jsonl(json_file_path, jsonl_file_path):\n",
        "    \"\"\"\n",
        "    Converts a JSON file to a JSONL file.\n",
        "\n",
        "    Args:\n",
        "        json_file_path (str): The path to the input JSON file.\n",
        "        jsonl_file_path (str): The path to the output JSONL file.\n",
        "    \"\"\"\n",
        "    with open(json_file_path, 'r') as infile, open(jsonl_file_path, 'w') as outfile:\n",
        "        data = json.load(infile)\n",
        "        if isinstance(data, list):\n",
        "            for item in data:\n",
        "                outfile.write(json.dumps(item) + '\\n')\n",
        "        else:\n",
        "            # If the JSON is not a list, treat it as a single object\n",
        "            outfile.write(json.dumps(data) + '\\n')"
      ],
      "execution_count": 1,
      "outputs": []
    },
    {
      "cell_type": "code",
      "metadata": {
        "colab": {
          "base_uri": "https://localhost:8080/"
        },
        "id": "f1d2850c",
        "outputId": "f37c5199-1b6f-45e5-ef6c-711380b2c5f5"
      },
      "source": [
        "json_to_jsonl('tickets_completi.json', 'output.jsonl')\n",
        "\n",
        "print(\"Conversion complete. 'output.jsonl' created.\")"
      ],
      "execution_count": 5,
      "outputs": [
        {
          "output_type": "stream",
          "name": "stdout",
          "text": [
            "Conversion complete. 'output.jsonl' created.\n"
          ]
        }
      ]
    }
  ]
}